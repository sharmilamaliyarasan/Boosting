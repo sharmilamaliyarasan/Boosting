{
 "cells": [
  {
   "cell_type": "code",
   "execution_count": 2,
   "id": "e8014384",
   "metadata": {},
   "outputs": [],
   "source": [
    "import pandas as pd \n",
    "from sklearn.model_selection import train_test_split, cross_val_score,cross_val_predict\n",
    "from xgboost import XGBClassifier\n",
    "from sklearn.ensemble import GradientBoostingClassifier\n",
    "from sklearn.preprocessing import LabelEncoder\n",
    "from sklearn.metrics import roc_auc_score,make_scorer"
   ]
  },
  {
   "cell_type": "code",
   "execution_count": 3,
   "id": "502745ad",
   "metadata": {},
   "outputs": [
    {
     "name": "stdout",
     "output_type": "stream",
     "text": [
      "Mean accuracy: 0.9471624266144815\n",
      "Average ROC AUC: 0.8323165678233787\n"
     ]
    }
   ],
   "source": [
    "df=pd.read_csv('healthcare-dataset-stroke-data.csv') \n",
    "df.head()\n",
    "\n",
    "label=LabelEncoder()\n",
    "for i in df.columns:\n",
    "  if df[i].dtype=='object':\n",
    "    df[i]=label.fit_transform(df[i])\n",
    "  if df[i].isnull().sum()>0:\n",
    "    df[i]=df[i].fillna(df[i].mean())\n",
    "\n",
    "X=df.drop('stroke',axis=1)\n",
    "y=df['stroke']\n",
    "\n",
    "X_train, X_test, y_train, y_test=train_test_split(X,y,test_size=0.2,random_state=42)\n",
    "\n",
    "model=GradientBoostingClassifier()\n",
    "model.fit(X_train,y_train)\n",
    "\n",
    "score=cross_val_score(model,X,y,cv=5,scoring='accuracy')\n",
    "print(f'Mean accuracy: {score.mean()}')\n",
    "\n",
    "score_roc=cross_val_score(model,X,y,scoring='roc_auc')\n",
    "print(f'Average ROC AUC: {score_roc.mean()}')"
   ]
  },
  {
   "cell_type": "code",
   "execution_count": 4,
   "id": "e407c292",
   "metadata": {},
   "outputs": [
    {
     "name": "stdout",
     "output_type": "stream",
     "text": [
      "Mean accuracy: 0.5684796238244514\n",
      "Mean ROC AUC: 0.7162215543206908\n"
     ]
    }
   ],
   "source": [
    "df=pd.read_csv('winequality-red.csv')\n",
    "df.head()\n",
    "\n",
    "X=df.drop('quality',axis=1)\n",
    "y=df['quality']\n",
    "\n",
    "X_train, X_test, y_train, y_test=train_test_split(X,y,test_size=0.2,random_state=42)\n",
    "\n",
    "model=GradientBoostingClassifier()\n",
    "model.fit(X_train,y_train)\n",
    "\n",
    "score=cross_val_score(model,X,y,scoring='accuracy')\n",
    "print(f'Mean accuracy: {score.mean()}')\n",
    "\n",
    "y_proba = cross_val_predict(model, X, y, cv=5, method='predict_proba')\n",
    "score_roc= roc_auc_score(y, y_proba, multi_class='ovr')\n",
    "print(f'Mean ROC AUC: {score_roc}')"
   ]
  },
  {
   "cell_type": "code",
   "execution_count": 5,
   "id": "62fe0fe5",
   "metadata": {},
   "outputs": [
    {
     "name": "stdout",
     "output_type": "stream",
     "text": [
      "Mean Accuracy: 0.8954631299734748\n"
     ]
    }
   ],
   "source": [
    "df=pd.read_csv('mushrooms.csv')\n",
    "df.head()\n",
    "\n",
    "label=LabelEncoder()\n",
    "for i in df.columns:\n",
    "  df[i]=label.fit_transform(df[i])\n",
    "\n",
    "X=df.drop('class',axis=1)\n",
    "y=df['class']\n",
    "\n",
    "X_train, X_test, y_train, y_test=train_test_split(X,y,test_size=0.2,random_state=42)\n",
    "\n",
    "model=XGBClassifier()\n",
    "model.fit(X_train,y_train)\n",
    "\n",
    "score=cross_val_score(model,X,y,cv=5)\n",
    "print(f'Mean Accuracy: {score.mean()}')"
   ]
  }
 ],
 "metadata": {
  "kernelspec": {
   "display_name": "base",
   "language": "python",
   "name": "python3"
  },
  "language_info": {
   "codemirror_mode": {
    "name": "ipython",
    "version": 3
   },
   "file_extension": ".py",
   "mimetype": "text/x-python",
   "name": "python",
   "nbconvert_exporter": "python",
   "pygments_lexer": "ipython3",
   "version": "3.13.5"
  }
 },
 "nbformat": 4,
 "nbformat_minor": 5
}
